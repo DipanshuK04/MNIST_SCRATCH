{
  "nbformat": 4,
  "nbformat_minor": 0,
  "metadata": {
    "colab": {
      "provenance": []
    },
    "kernelspec": {
      "name": "python3",
      "display_name": "Python 3"
    },
    "language_info": {
      "name": "python"
    }
  },
  "cells": [
    {
      "cell_type": "code",
      "execution_count": null,
      "metadata": {
        "id": "6IA_3gxa-0FD"
      },
      "outputs": [],
      "source": [
        "import torch\n",
        "import numpy as np\n",
        "import matplotlib.pyplot as plt\n",
        "import torch.nn.functional as F\n",
        "from torch.utils.data import Dataset,DataLoader\n",
        "import torch.nn as nn"
      ]
    },
    {
      "cell_type": "code",
      "source": [
        "class CTDATASET(Dataset):\n",
        "  def __init__(self,filepath):\n",
        "    self.x , self.y = torch.load(filepath)\n",
        "    self.x = self.x / 255\n",
        "    self.y = F.one_hot(self.y).to(float)\n",
        "\n",
        "  def __len__(self):\n",
        "    return self.x.shape[0]\n",
        "\n",
        "  def __getitem__(self,idx):\n",
        "    return self.x[idx],self.y[idx]"
      ],
      "metadata": {
        "id": "CaJHurvSXX3D"
      },
      "execution_count": null,
      "outputs": []
    },
    {
      "cell_type": "code",
      "source": [
        "training_examples = CTDATASET('/content/training.pt')\n",
        "print(len(training_examples))"
      ],
      "metadata": {
        "colab": {
          "base_uri": "https://localhost:8080/"
        },
        "id": "flqcriQdYe-K",
        "outputId": "22f29820-d9d9-4f1b-b150-cb7895ee07bc"
      },
      "execution_count": null,
      "outputs": [
        {
          "output_type": "stream",
          "name": "stdout",
          "text": [
            "60000\n"
          ]
        }
      ]
    },
    {
      "cell_type": "code",
      "source": [
        "training_dl = DataLoader(training_examples,batch_size = 10)\n",
        "print(len(training_dl))\n",
        "print(training_dl)\n",
        "print(training_dl)"
      ],
      "metadata": {
        "colab": {
          "base_uri": "https://localhost:8080/"
        },
        "id": "dAV6uSSBaFJd",
        "outputId": "b46ee9e6-08b7-4094-bc77-88e0eacdc3fa"
      },
      "execution_count": null,
      "outputs": [
        {
          "output_type": "stream",
          "name": "stdout",
          "text": [
            "6000\n",
            "<torch.utils.data.dataloader.DataLoader object at 0x7c9a68e6fb80>\n",
            "<torch.utils.data.dataloader.DataLoader object at 0x7c9a68e6fb80>\n"
          ]
        }
      ]
    },
    {
      "cell_type": "code",
      "source": [
        "class NEURALNETWORK(nn.Module):\n",
        "  def __init__(self):\n",
        "    super().__init__()\n",
        "    self.layer1 = nn.Linear(28**2,100)\n",
        "    self.layer2 = nn.Linear(100,50)\n",
        "    self.layer3 = nn.Linear(50,10)\n",
        "    self.activation = nn.ReLU()\n",
        "  def forward(self,X):\n",
        "    X = X.view(-1,28**2)\n",
        "    X = self.activation(self.layer1(X))\n",
        "    X = self.activation(self.layer2(X))\n",
        "    X = self.layer3(X)\n",
        "    return X.squeeze()"
      ],
      "metadata": {
        "id": "-TcXWoipQ7fx"
      },
      "execution_count": null,
      "outputs": []
    },
    {
      "cell_type": "code",
      "source": [
        "func = NEURALNETWORK()\n",
        "import torch.optim as optim\n",
        "def training(t_dl,func,epochs):\n",
        "  opt = optim.SGD(func.parameters(),lr=0.01)\n",
        "  L = nn.CrossEntropyLoss()\n",
        "  N = len(training_dl)\n",
        "  noe=[];noe_Avg=[]\n",
        "  lossvalue=[];lossvalue_Avg=[]\n",
        "  for episodes in range(epochs):\n",
        "    print('episode no:',episodes)\n",
        "    for i,(x,y) in enumerate(t_dl):\n",
        "      opt.zero_grad()\n",
        "      loss = L(func(x),y)\n",
        "      loss.backward()\n",
        "      opt.step()\n",
        "      noe.append(episodes+i/N)\n",
        "      lossvalue.append(loss.item())\n",
        "\n",
        "    noe_Avg.append(sum(noe)/N)\n",
        "    lossvalue_Avg.append(sum(lossvalue)/N)\n",
        "    noe=[];lossvalue=[]\n",
        "  return np.array(noe_Avg),np.array(lossvalue_Avg)"
      ],
      "metadata": {
        "id": "faYCBfD2VvKy"
      },
      "execution_count": null,
      "outputs": []
    },
    {
      "cell_type": "code",
      "source": [
        "noe,lv = training(training_dl,func,20)\n",
        "plt.plot(noe,lv)\n",
        "plt.title('TRAINING')\n",
        "plt.ylabel('LOSSvalue')\n",
        "plt.xlabel('NO_of_Episodes_forbatchsize=10')\n",
        "plt.show()"
      ],
      "metadata": {
        "colab": {
          "base_uri": "https://localhost:8080/",
          "height": 819
        },
        "id": "2UogesBveUGT",
        "outputId": "b740a597-088b-4cba-a524-06411e9952bd"
      },
      "execution_count": null,
      "outputs": [
        {
          "output_type": "stream",
          "name": "stdout",
          "text": [
            "episode no: 0\n",
            "episode no: 1\n",
            "episode no: 2\n",
            "episode no: 3\n",
            "episode no: 4\n",
            "episode no: 5\n",
            "episode no: 6\n",
            "episode no: 7\n",
            "episode no: 8\n",
            "episode no: 9\n",
            "episode no: 10\n",
            "episode no: 11\n",
            "episode no: 12\n",
            "episode no: 13\n",
            "episode no: 14\n",
            "episode no: 15\n",
            "episode no: 16\n",
            "episode no: 17\n",
            "episode no: 18\n",
            "episode no: 19\n"
          ]
        },
        {
          "output_type": "display_data",
          "data": {
            "text/plain": [
              "<Figure size 640x480 with 1 Axes>"
            ],
            "image/png": "[encoded data removed]"
          },
          "metadata": {}
        }
      ]
    },
    {
      "cell_type": "code",
      "source": [
        "training_examples[0][1]\n",
        "y=training_examples[0][1]\n",
        "xsam=training_examples[0][0]\n",
        "func(xsam)"
      ],
      "metadata": {
        "colab": {
          "base_uri": "https://localhost:8080/"
        },
        "id": "rX9NAl581n8z",
        "outputId": "3b04f9fd-8737-4f63-a2f3-d1d9b7cd84bd"
      },
      "execution_count": null,
      "outputs": [
        {
          "output_type": "execute_result",
          "data": {
            "text/plain": [
              "tensor([ -3.4807,   2.6267,  -3.2679,  17.6859, -24.8675,  23.2578, -12.5252,\n",
              "         -0.6207,  -3.6171,   3.3231], grad_fn=<SqueezeBackward0>)"
            ]
          },
          "metadata": {},
          "execution_count": 108
        }
      ]
    },
    {
      "cell_type": "code",
      "source": [
        "test_exmpl = CTDATASET('/content/test.pt')\n",
        "x,y=test_exmpl[0]\n",
        "plt.imshow(x)\n",
        "print('ORIGINAL:',torch.argmax(y))\n",
        "print('PREDICTED:',torch.argmax(func(x)))"
      ],
      "metadata": {
        "colab": {
          "base_uri": "https://localhost:8080/",
          "height": 465
        },
        "id": "knj3_sqx5fVr",
        "outputId": "89153721-d735-487f-b839-85b3d58492c1"
      },
      "execution_count": null,
      "outputs": [
        {
          "output_type": "stream",
          "name": "stdout",
          "text": [
            "ORIGINAL: tensor(7)\n",
            "PREDICTED: tensor(7)\n"
          ]
        },
        {
          "output_type": "display_data",
          "data": {
            "text/plain": [
              "<Figure size 640x480 with 1 Axes>"
            ],
            "image/png": "[encoded data removed]"
          },
          "metadata": {}
        }
      ]
    },
    {
      "cell_type": "code",
      "source": [
        "xs,ys=test_exmpl[0:10]\n",
        "print('ORIGINAL  :',torch.argmax(ys,axis=1))\n",
        "print('PREDICTION:',torch.argmax(func(xs),axis=1))"
      ],
      "metadata": {
        "colab": {
          "base_uri": "https://localhost:8080/"
        },
        "id": "J13yNRCv6X7z",
        "outputId": "ee7e905e-d110-4b00-efd9-5fcf15031faa"
      },
      "execution_count": null,
      "outputs": [
        {
          "output_type": "stream",
          "name": "stdout",
          "text": [
            "ORIGINAL  : tensor([7, 2, 1, 0, 4, 1, 4, 9, 5, 9])\n",
            "PREDICTION: tensor([7, 2, 1, 0, 4, 1, 4, 9, 6, 9])\n"
          ]
        }
      ]
    }
  ]
}